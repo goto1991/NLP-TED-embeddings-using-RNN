{
 "cells": [
  {
   "cell_type": "code",
   "execution_count": null,
   "metadata": {
    "collapsed": true
   },
   "outputs": [],
   "source": [
    "NLP Practical 3"
   ]
  },
  {
   "cell_type": "code",
   "execution_count": 1,
   "metadata": {
    "collapsed": false
   },
   "outputs": [],
   "source": [
    "import numpy as np\n",
    "import os\n",
    "from random import shuffle\n",
    "import re\n",
    "import sklearn as sk\n",
    "import matplotlib.pyplot as plt\n",
    "import random"
   ]
  },
  {
   "cell_type": "code",
   "execution_count": 2,
   "metadata": {
    "collapsed": false
   },
   "outputs": [],
   "source": [
    "import urllib.request\n",
    "import zipfile\n",
    "import lxml.etree"
   ]
  },
  {
   "cell_type": "code",
   "execution_count": 3,
   "metadata": {
    "collapsed": false
   },
   "outputs": [],
   "source": [
    "import tensorflow as tf"
   ]
  },
  {
   "cell_type": "code",
   "execution_count": 4,
   "metadata": {
    "collapsed": false
   },
   "outputs": [],
   "source": [
    "with zipfile.ZipFile('ted_en-20160408.zip', 'r') as z:\n",
    "    doc = lxml.etree.parse(z.open('ted_en-20160408.xml', 'r'))\n",
    "    \n",
    "raw_text = doc.xpath('//content/text()')\n",
    "raw_label = doc.xpath('//head/keywords/text()')\n",
    "\n",
    "del doc"
   ]
  },
  {
   "cell_type": "code",
   "execution_count": 8,
   "metadata": {
    "collapsed": false
   },
   "outputs": [],
   "source": [
    "talk_sentences = []\n",
    "talknum = len(raw_text)\n",
    "\n",
    "for i in range(talknum):\n",
    "    temp = re.sub(r'\\([^)]*\\)', '', raw_text[i])\n",
    "    temp = re.sub(r'\\n', '', raw_text[i])\n",
    "    temp = temp.split('.')\n",
    "    talk_sentences.append(temp)"
   ]
  },
  {
   "cell_type": "code",
   "execution_count": 9,
   "metadata": {
    "collapsed": false
   },
   "outputs": [
    {
     "name": "stdout",
     "output_type": "stream",
     "text": [
      "To me the real, real solution to quality growth is figuring out the balance between two activities: exploration and exploitation\n"
     ]
    }
   ],
   "source": [
    "print(talk_sentences[0][1])"
   ]
  },
  {
   "cell_type": "code",
   "execution_count": 10,
   "metadata": {
    "collapsed": true
   },
   "outputs": [],
   "source": [
    "talk_sentence_word = []\n",
    "\n",
    "for talk in talk_sentences:\n",
    "    temp = []\n",
    "    for sent in talk:\n",
    "        tokens = re.sub(r\"[^a-z0-9]+\", \" \", sent.lower()).split()\n",
    "        temp.append(tokens)#\n",
    "    talk_sentence_word.append(temp)"
   ]
  },
  {
   "cell_type": "code",
   "execution_count": 12,
   "metadata": {
    "collapsed": false
   },
   "outputs": [
    {
     "data": {
      "text/plain": [
       "['to',\n",
       " 'me',\n",
       " 'the',\n",
       " 'real',\n",
       " 'real',\n",
       " 'solution',\n",
       " 'to',\n",
       " 'quality',\n",
       " 'growth',\n",
       " 'is',\n",
       " 'figuring',\n",
       " 'out',\n",
       " 'the',\n",
       " 'balance',\n",
       " 'between',\n",
       " 'two',\n",
       " 'activities',\n",
       " 'exploration',\n",
       " 'and',\n",
       " 'exploitation']"
      ]
     },
     "execution_count": 12,
     "metadata": {},
     "output_type": "execute_result"
    }
   ],
   "source": [
    "talk_sentence_word[0][1]"
   ]
  },
  {
   "cell_type": "code",
   "execution_count": 13,
   "metadata": {
    "collapsed": false
   },
   "outputs": [],
   "source": [
    "freq = {}\n",
    "\n",
    "for talk in talk_sentence_word:\n",
    "    for sent in talk:\n",
    "        for word in sent:\n",
    "            if word in freq:\n",
    "                freq[word] += 1\n",
    "            else:\n",
    "                freq[word] = 1"
   ]
  },
  {
   "cell_type": "code",
   "execution_count": 14,
   "metadata": {
    "collapsed": true
   },
   "outputs": [],
   "source": [
    "from collections import Counter\n",
    "\n",
    "counts_ted_top1000 = []\n",
    "words_top_ted = []\n",
    "\n",
    "for word, count in Counter(freq).most_common(1000):\n",
    "    counts_ted_top1000.append(count)\n",
    "    words_top_ted.append(word)"
   ]
  },
  {
   "cell_type": "code",
   "execution_count": 15,
   "metadata": {
    "collapsed": false
   },
   "outputs": [],
   "source": [
    "talk_sentence_word_nostop = talk_sentence_word\n",
    "\n",
    "for stop in words_top_ted[:200]:\n",
    "    for talk in talk_sentence_word_nostop:\n",
    "        for sent in talk:\n",
    "            for word in sent:\n",
    "                if word == stop:\n",
    "                    sent.remove(word)"
   ]
  },
  {
   "cell_type": "code",
   "execution_count": 16,
   "metadata": {
    "collapsed": false
   },
   "outputs": [
    {
     "data": {
      "text/plain": [
       "['real',\n",
       " 'real',\n",
       " 'solution',\n",
       " 'quality',\n",
       " 'growth',\n",
       " 'figuring',\n",
       " 'balance',\n",
       " 'between',\n",
       " 'activities',\n",
       " 'exploration',\n",
       " 'exploitation']"
      ]
     },
     "execution_count": 16,
     "metadata": {},
     "output_type": "execute_result"
    }
   ],
   "source": [
    "talk_sentence_word_nostop[0][1]"
   ]
  },
  {
   "cell_type": "code",
   "execution_count": 17,
   "metadata": {
    "collapsed": false
   },
   "outputs": [
    {
     "data": {
      "text/plain": [
       "(2085,)"
      ]
     },
     "execution_count": 17,
     "metadata": {},
     "output_type": "execute_result"
    }
   ],
   "source": [
    "np.shape(talk_sentence_word_nostop)"
   ]
  },
  {
   "cell_type": "code",
   "execution_count": 18,
   "metadata": {
    "collapsed": false
   },
   "outputs": [],
   "source": [
    "input_label = []\n",
    "\n",
    "for i in range(len(raw_label)):\n",
    "    temp = re.sub(r' ', '', raw_label[i])\n",
    "    input_label.append(temp.split(','))\n",
    "    \n",
    "#print(input_label_prepro)"
   ]
  },
  {
   "cell_type": "code",
   "execution_count": 19,
   "metadata": {
    "collapsed": false
   },
   "outputs": [
    {
     "name": "stdout",
     "output_type": "stream",
     "text": [
      "['talks', 'Senses', 'augmentedreality', 'brain', 'computers', 'creativity', 'cyborg', 'demo', 'design', 'engineering', 'entrepreneur', 'innovation', 'interfacedesign', 'invention', 'neuroscience', 'potential', 'prediction', 'productdesign', 'technology', 'visualizations']\n",
      "[array([ 0.,  0.,  0.]), array([ 0.,  0.,  0.]), array([ 0.,  0.,  0.]), array([ 0.,  0.,  1.]), array([ 1.,  0.,  1.]), array([ 0.,  0.,  0.]), array([ 0.,  0.,  0.]), array([ 0.,  0.,  0.]), array([ 0.,  0.,  0.]), array([ 1.,  0.,  1.])]\n"
     ]
    }
   ],
   "source": [
    "labels_binary = []\n",
    "\n",
    "for i in range(len(input_label)):\n",
    "    temp = np.zeros(3)\n",
    "    if 'technology' in '~'.join(input_label[i]):\n",
    "        temp[0] = 1\n",
    "    if 'entertainment' in '~'.join(input_label[i]):\n",
    "        temp[1] = 1\n",
    "    if 'design' in '~'.join(input_label[i]):\n",
    "        temp[2] = 1\n",
    "    labels_binary.append(temp)\n",
    "        \n",
    "print(input_label[9])\n",
    "print(labels_binary[:10])"
   ]
  },
  {
   "cell_type": "code",
   "execution_count": 20,
   "metadata": {
    "collapsed": true
   },
   "outputs": [],
   "source": [
    "temp = list(zip(talk_sentence_word_nostop, labels_binary))\n",
    "random.shuffle(temp)\n",
    "talk_sentence_word_nostop_shuffle, labels_binary_shuffle = zip(*temp)"
   ]
  },
  {
   "cell_type": "code",
   "execution_count": 21,
   "metadata": {
    "collapsed": false
   },
   "outputs": [
    {
     "name": "stderr",
     "output_type": "stream",
     "text": [
      "/home/scratch/ms16lg2/anaconda3/lib/python3.5/site-packages/ipykernel/__main__.py:4: VisibleDeprecationWarning: using a non-integer number instead of an integer will result in an error in the future\n"
     ]
    }
   ],
   "source": [
    "labels_onehot = []\n",
    "for i in range(len(input_label)):\n",
    "    temp = np.zeros(8)\n",
    "    temp[labels_binary[i][0]*4+labels_binary[i][1]*2+labels_binary[i][2]*1] = 1\n",
    "    labels_onehot.append(temp)"
   ]
  },
  {
   "cell_type": "code",
   "execution_count": 22,
   "metadata": {
    "collapsed": false
   },
   "outputs": [
    {
     "name": "stderr",
     "output_type": "stream",
     "text": [
      "/home/scratch/ms16lg2/anaconda3/lib/python3.5/site-packages/ipykernel/__main__.py:4: VisibleDeprecationWarning: using a non-integer number instead of an integer will result in an error in the future\n"
     ]
    }
   ],
   "source": [
    "labels_onehot_shuffle = []\n",
    "for i in range(len(input_label)):\n",
    "    temp = np.zeros(8)\n",
    "    temp[labels_binary_shuffle[i][0]*4+labels_binary_shuffle[i][1]*2+labels_binary_shuffle[i][2]*1] = 1\n",
    "    labels_onehot_shuffle.append(temp)"
   ]
  },
  {
   "cell_type": "code",
   "execution_count": 23,
   "metadata": {
    "collapsed": false
   },
   "outputs": [],
   "source": [
    "train_data = talk_sentence_word_nostop[:1835]\n",
    "test_data = talk_sentence_word_nostop[1835:]\n",
    "\n",
    "train_labels = labels_binary[:1835]\n",
    "test_labels = labels_binary[1835:]\n",
    "\n",
    "train_labels_onehot = labels_onehot[:1835]\n",
    "test_labels_onehot = labels_onehot[1835:]"
   ]
  },
  {
   "cell_type": "code",
   "execution_count": 24,
   "metadata": {
    "collapsed": false
   },
   "outputs": [],
   "source": [
    "train_data_shuffle = talk_sentence_word_nostop_shuffle[:1835]\n",
    "test_data_shuffle = talk_sentence_word_nostop_shuffle[1835:]\n",
    "\n",
    "train_labels_shuffle = labels_binary_shuffle[:1835]\n",
    "test_labels_shuffle = labels_binary_shuffle[1835:]\n",
    "\n",
    "train_labels_onehot_shuffle = labels_onehot_shuffle[:1835]\n",
    "test_labels_onehot_shuffle = labels_onehot_shuffle[1835:]"
   ]
  },
  {
   "cell_type": "code",
   "execution_count": 27,
   "metadata": {
    "collapsed": false
   },
   "outputs": [
    {
     "name": "stdout",
     "output_type": "stream",
     "text": [
      "(2085,)\n",
      "(2085, 3)\n",
      "(2085, 8)\n",
      "(1835,)\n",
      "(1835, 3)\n",
      "(1835, 8)\n",
      "(250,)\n",
      "(250, 3)\n",
      "(250, 8)\n"
     ]
    }
   ],
   "source": [
    "print(np.shape(talk_sentence_word_nostop))\n",
    "print(np.shape(labels_binary))\n",
    "print(np.shape(labels_onehot))\n",
    "print(np.shape(train_data))\n",
    "print(np.shape(train_labels))\n",
    "print(np.shape(train_labels_onehot))\n",
    "print(np.shape(test_data))\n",
    "print(np.shape(test_labels))\n",
    "print(np.shape(test_labels_onehot))"
   ]
  },
  {
   "cell_type": "code",
   "execution_count": 30,
   "metadata": {
    "collapsed": false
   },
   "outputs": [
    {
     "name": "stdout",
     "output_type": "stream",
     "text": [
      "(2085,)\n",
      "(2085, 3)\n",
      "(2085, 8)\n",
      "(1835,)\n",
      "(1835, 3)\n",
      "(1835, 8)\n",
      "(250,)\n",
      "(250, 3)\n",
      "(250, 8)\n"
     ]
    }
   ],
   "source": [
    "print(np.shape(talk_sentence_word_nostop_shuffle))\n",
    "print(np.shape(labels_binary_shuffle))\n",
    "print(np.shape(labels_onehot_shuffle))\n",
    "print(np.shape(train_data_shuffle))\n",
    "print(np.shape(train_labels_shuffle))\n",
    "print(np.shape(train_labels_onehot_shuffle))\n",
    "print(np.shape(test_data_shuffle))\n",
    "print(np.shape(test_labels_shuffle))\n",
    "print(np.shape(test_labels_onehot_shuffle))"
   ]
  },
  {
   "cell_type": "code",
   "execution_count": 31,
   "metadata": {
    "collapsed": false,
    "scrolled": true
   },
   "outputs": [
    {
     "name": "stdout",
     "output_type": "stream",
     "text": [
      "[ 0.57493188  0.0746594   0.0719346   0.00980926  0.17711172  0.06376022\n",
      "  0.01525886  0.01253406]\n",
      "[ 0.292  0.108  0.164  0.024  0.224  0.112  0.032  0.044]\n"
     ]
    }
   ],
   "source": [
    "check = np.asarray(train_labels_onehot)\n",
    "print(check.sum(0) / check.sum())\n",
    "check = np.asarray(test_labels_onehot)\n",
    "print(check.sum(0) / check.sum())"
   ]
  },
  {
   "cell_type": "code",
   "execution_count": 32,
   "metadata": {
    "collapsed": false,
    "scrolled": true
   },
   "outputs": [
    {
     "name": "stdout",
     "output_type": "stream",
     "text": [
      "[ 0.54277929  0.08119891  0.08392371  0.01144414  0.18583106  0.06376022\n",
      "  0.01580381  0.01525886]\n",
      "[ 0.528  0.06   0.076  0.012  0.16   0.112  0.028  0.024]\n"
     ]
    }
   ],
   "source": [
    "check = np.asarray(train_labels_onehot_shuffle)\n",
    "print(check.sum(0) / check.sum())\n",
    "check = np.asarray(test_labels_onehot_shuffle)\n",
    "print(check.sum(0) / check.sum())"
   ]
  },
  {
   "cell_type": "code",
   "execution_count": 34,
   "metadata": {
    "collapsed": true
   },
   "outputs": [],
   "source": [
    "train_lenghts = []\n",
    "\n",
    "for talk in train_data:\n",
    "    N = 0\n",
    "    for sent in talk:\n",
    "        for word in sent:\n",
    "            N += 1\n",
    "    train_lenghts.append(N)"
   ]
  },
  {
   "cell_type": "code",
   "execution_count": 35,
   "metadata": {
    "collapsed": false
   },
   "outputs": [
    {
     "data": {
      "text/plain": [
       "[475, 807, 852, 493, 971, 823, 676, 692, 977, 622]"
      ]
     },
     "execution_count": 35,
     "metadata": {},
     "output_type": "execute_result"
    }
   ],
   "source": [
    "train_lenghts[:10]"
   ]
  },
  {
   "cell_type": "code",
   "execution_count": 36,
   "metadata": {
    "collapsed": true
   },
   "outputs": [],
   "source": [
    "test_lenghts = []\n",
    "\n",
    "for talk in test_data:\n",
    "    N = 0\n",
    "    for sent in talk:\n",
    "        for word in sent:\n",
    "            N += 1\n",
    "    test_lenghts.append(N)"
   ]
  },
  {
   "cell_type": "code",
   "execution_count": 59,
   "metadata": {
    "collapsed": false
   },
   "outputs": [
    {
     "data": {
      "text/plain": [
       "[208, 1014, 826, 203, 1718, 241, 100, 979, 944, 1273]"
      ]
     },
     "execution_count": 59,
     "metadata": {},
     "output_type": "execute_result"
    }
   ],
   "source": [
    "test_lenghts[:10]"
   ]
  },
  {
   "cell_type": "code",
   "execution_count": 43,
   "metadata": {
    "collapsed": false
   },
   "outputs": [
    {
     "name": "stdout",
     "output_type": "stream",
     "text": [
      "475\n"
     ]
    }
   ],
   "source": [
    "train_talk_word = []\n",
    "\n",
    "for talk in train_data:\n",
    "    temp = []\n",
    "    for sent in talk:\n",
    "        for word in sent:\n",
    "            temp.append(word)\n",
    "    train_talk_word.append(temp)\n",
    "    \n",
    "print(len(train_talk_word[0]))"
   ]
  },
  {
   "cell_type": "code",
   "execution_count": 44,
   "metadata": {
    "collapsed": false
   },
   "outputs": [
    {
     "name": "stdout",
     "output_type": "stream",
     "text": [
      "208\n"
     ]
    }
   ],
   "source": [
    "test_talk_word = []\n",
    "\n",
    "for talk in test_data:\n",
    "    temp = []\n",
    "    for sent in talk:\n",
    "        for word in sent:\n",
    "            temp.append(word)\n",
    "    test_talk_word.append(temp)\n",
    "    \n",
    "print(len(test_talk_word[0]))"
   ]
  },
  {
   "cell_type": "code",
   "execution_count": 45,
   "metadata": {
    "collapsed": false
   },
   "outputs": [
    {
     "data": {
      "text/plain": [
       "['fire',\n",
       " 'nine',\n",
       " 'days',\n",
       " 'archive',\n",
       " '175',\n",
       " 'films',\n",
       " '16',\n",
       " 'millimeter',\n",
       " 'negative',\n",
       " 'books']"
      ]
     },
     "execution_count": 45,
     "metadata": {},
     "output_type": "execute_result"
    }
   ],
   "source": [
    "test_talk_word[0][:10]"
   ]
  },
  {
   "cell_type": "code",
   "execution_count": 47,
   "metadata": {
    "collapsed": false
   },
   "outputs": [],
   "source": [
    "train_sent = []\n",
    "\n",
    "for talk in train_data:\n",
    "    for sent in talk:\n",
    "        train_sent.append(sent)"
   ]
  },
  {
   "cell_type": "code",
   "execution_count": 40,
   "metadata": {
    "collapsed": false
   },
   "outputs": [],
   "source": [
    "from gensim.models import Word2Vec"
   ]
  },
  {
   "cell_type": "code",
   "execution_count": 49,
   "metadata": {
    "collapsed": false
   },
   "outputs": [],
   "source": [
    "model_ted = Word2Vec(train_sent, min_count=1, size=100)"
   ]
  },
  {
   "cell_type": "code",
   "execution_count": 53,
   "metadata": {
    "collapsed": false
   },
   "outputs": [],
   "source": [
    "train_talk_word_emb = []\n",
    "\n",
    "for talk in train_talk_word:\n",
    "    temp = []\n",
    "    for word in talk:\n",
    "        if word in model_ted.vocab.keys():\n",
    "            temp.append(model_ted[word])\n",
    "        else:\n",
    "            temp.append(np.zeros(100))\n",
    "    train_talk_word_emb.append(temp)"
   ]
  },
  {
   "cell_type": "code",
   "execution_count": 54,
   "metadata": {
    "collapsed": false
   },
   "outputs": [],
   "source": [
    "test_talk_word_emb = []\n",
    "\n",
    "for talk in test_talk_word:\n",
    "    temp = []\n",
    "    for word in talk:\n",
    "        if word in model_ted.vocab.keys():\n",
    "            temp.append(model_ted[word])\n",
    "        else:\n",
    "            temp.append(np.zeros(100))\n",
    "    test_talk_word_emb.append(temp)"
   ]
  },
  {
   "cell_type": "code",
   "execution_count": 66,
   "metadata": {
    "collapsed": false
   },
   "outputs": [
    {
     "data": {
      "text/plain": [
       "[475, 807, 852, 493, 971, 823, 676, 692, 977, 622]"
      ]
     },
     "execution_count": 66,
     "metadata": {},
     "output_type": "execute_result"
    }
   ],
   "source": [
    "train_lenghts[:10]"
   ]
  },
  {
   "cell_type": "code",
   "execution_count": 87,
   "metadata": {
    "collapsed": true
   },
   "outputs": [],
   "source": [
    "train_talk_word_emb_exp = []\n",
    "\n",
    "for i in range(len(train_talk_word_emb)):\n",
    "    temp = []\n",
    "    for j in range(max(train_lenghts)):\n",
    "        if j <= (train_lenghts[i]-1):\n",
    "            temp.append(train_talk_word_emb[i][j])\n",
    "        else:\n",
    "            temp.append(np.zeros(100))\n",
    "    train_talk_word_emb_exp.append(temp)"
   ]
  },
  {
   "cell_type": "code",
   "execution_count": 85,
   "metadata": {
    "collapsed": false
   },
   "outputs": [],
   "source": [
    "test_talk_word_emb_exp = []\n",
    "\n",
    "for i in range(len(test_talk_word_emb)):\n",
    "    temp = []\n",
    "    for j in range(max(train_lenghts)):\n",
    "        if j <= (test_lenghts[i]-1):\n",
    "            temp.append(test_talk_word_emb[i][j])\n",
    "        else:\n",
    "            temp.append(np.zeros(100))\n",
    "    test_talk_word_emb_exp.append(temp)"
   ]
  },
  {
   "cell_type": "code",
   "execution_count": 86,
   "metadata": {
    "collapsed": false
   },
   "outputs": [
    {
     "data": {
      "text/plain": [
       "(250, 2221, 100)"
      ]
     },
     "execution_count": 86,
     "metadata": {},
     "output_type": "execute_result"
    }
   ],
   "source": [
    "np.shape(test_talk_word_emb_exp)"
   ]
  },
  {
   "cell_type": "code",
   "execution_count": 88,
   "metadata": {
    "collapsed": false
   },
   "outputs": [
    {
     "data": {
      "text/plain": [
       "(1835, 2221, 100)"
      ]
     },
     "execution_count": 88,
     "metadata": {},
     "output_type": "execute_result"
    }
   ],
   "source": [
    "np.shape(train_talk_word_emb_exp)"
   ]
  },
  {
   "cell_type": "code",
   "execution_count": 89,
   "metadata": {
    "collapsed": false
   },
   "outputs": [
    {
     "name": "stdout",
     "output_type": "stream",
     "text": [
      "[[[ 0.00335423  0.00456646  0.11484939 ..., -0.09846282 -0.01592748\n",
      "   -0.04922342]\n",
      "  [ 0.07969373  0.02491246  0.19337345 ...,  0.10140288  0.01015642\n",
      "    0.02996071]\n",
      "  [-0.01767184  0.01839419  0.22493143 ...,  0.03654385  0.01477763\n",
      "   -0.0328414 ]\n",
      "  ..., \n",
      "  [ 0.          0.          0.         ...,  0.          0.          0.        ]\n",
      "  [ 0.          0.          0.         ...,  0.          0.          0.        ]\n",
      "  [ 0.          0.          0.         ...,  0.          0.          0.        ]]]\n"
     ]
    }
   ],
   "source": [
    "train_lenghts = np.array(train_lenghts)\n",
    "train_talk_word_emb_exp = np.array(train_talk_word_emb_exp)\n",
    "\n",
    "tf.reset_default_graph()\n",
    "\n",
    "cell = tf.nn.rnn_cell.LSTMCell(num_units=100, state_is_tuple=True)\n",
    "\n",
    "outputs, last_states = tf.nn.dynamic_rnn(\n",
    "    cell=cell,\n",
    "    dtype=tf.float64,\n",
    "    sequence_length=train_lenghts[:1],\n",
    "    inputs=train_talk_word_emb_exp[:1])\n",
    "\n",
    "result = tf.contrib.learn.run_n(\n",
    "    {\"outputs\": outputs, \"last_states\": last_states},\n",
    "    n=1,\n",
    "    feed_dict=None)\n",
    "\n",
    "#assert result[0][\"outputs\"].shape == (1, 100, 100)\n",
    "print(result[0][\"outputs\"])\n",
    "\n",
    "# Outputs for the second example past past length 6 should be 0\n",
    "#assert (result[0][\"outputs\"][1,7,:] == np.zeros(cell.output_size)).all()"
   ]
  },
  {
   "cell_type": "code",
   "execution_count": 69,
   "metadata": {
    "collapsed": false
   },
   "outputs": [
    {
     "name": "stdout",
     "output_type": "stream",
     "text": [
      "[[[ 0.08330847 -0.07997911 -0.15619285 ...,  0.02258903  0.01590532\n",
      "   -0.1110686 ]\n",
      "  [ 0.03133713 -0.11231508 -0.10753537 ...,  0.09328638 -0.06160749\n",
      "    0.12643219]\n",
      "  [ 0.02809332 -0.15213351 -0.14210787 ..., -0.00432295  0.01988201\n",
      "    0.02255423]\n",
      "  ..., \n",
      "  [ 0.12359908  0.06268023 -0.07288837 ...,  0.10977463 -0.11880172\n",
      "    0.17737559]\n",
      "  [ 0.0284743   0.10941476 -0.06975772 ...,  0.14912158 -0.12484405\n",
      "    0.20878322]\n",
      "  [ 0.07652177  0.12213089 -0.09808181 ...,  0.18370856 -0.06454782\n",
      "    0.06134945]]\n",
      "\n",
      " [[-0.06294364 -0.09950342 -0.10851849 ...,  0.06565711 -0.07177848\n",
      "   -0.05096928]\n",
      "  [-0.23090904 -0.02724335  0.0833625  ...,  0.11698978 -0.01457705\n",
      "    0.0556754 ]\n",
      "  [-0.15835107 -0.09366613  0.10595192 ..., -0.01740723 -0.09518339\n",
      "    0.02513047]\n",
      "  ..., \n",
      "  [ 0.          0.          0.         ...,  0.          0.          0.        ]\n",
      "  [ 0.          0.          0.         ...,  0.          0.          0.        ]\n",
      "  [ 0.          0.          0.         ...,  0.          0.          0.        ]]]\n"
     ]
    }
   ],
   "source": [
    "tf.reset_default_graph()\n",
    "\n",
    "# Create input data\n",
    "X = np.random.randn(2, 10, 8)\n",
    "\n",
    "# The second example is of length 6 \n",
    "X[1,6:] = 0\n",
    "X_lengths = [10, 6]\n",
    "\n",
    "cell = tf.nn.rnn_cell.LSTMCell(num_units=64, state_is_tuple=True)\n",
    "\n",
    "outputs, last_states = tf.nn.dynamic_rnn(\n",
    "    cell=cell,\n",
    "    dtype=tf.float64,\n",
    "    sequence_length=X_lengths,\n",
    "    inputs=X)\n",
    "\n",
    "result = tf.contrib.learn.run_n(\n",
    "    {\"outputs\": outputs, \"last_states\": last_states},\n",
    "    n=1,\n",
    "    feed_dict=None)\n",
    "\n",
    "assert result[0][\"outputs\"].shape == (2, 10, 64)\n",
    "print(result[0][\"outputs\"])\n",
    "\n",
    "# Outputs for the second example past past length 6 should be 0\n",
    "assert (result[0][\"outputs\"][1,7,:] == np.zeros(cell.output_size)).all()"
   ]
  },
  {
   "cell_type": "code",
   "execution_count": 106,
   "metadata": {
    "collapsed": true
   },
   "outputs": [],
   "source": [
    "def weight_variable(shape):\n",
    "    initial = tf.truncated_normal(shape, stddev=0.05)\n",
    "    return tf.Variable(initial)\n",
    "\n",
    "def bias_variable(shape):\n",
    "    initial = tf.constant(0.1, shape=shape)\n",
    "    return tf.Variable(initial)"
   ]
  },
  {
   "cell_type": "code",
   "execution_count": 117,
   "metadata": {
    "collapsed": false
   },
   "outputs": [
    {
     "data": {
      "text/plain": [
       "0.292"
      ]
     },
     "execution_count": 117,
     "metadata": {},
     "output_type": "execute_result"
    }
   ],
   "source": [
    "sess.run(accuracy, feed_dict={x: test_bow_original, y_: test_labels_onehot})"
   ]
  },
  {
   "cell_type": "code",
   "execution_count": 62,
   "metadata": {
    "collapsed": false
   },
   "outputs": [],
   "source": [
    "X = np.random.randn(2, 10, 8)"
   ]
  },
  {
   "cell_type": "code",
   "execution_count": 63,
   "metadata": {
    "collapsed": false
   },
   "outputs": [
    {
     "data": {
      "text/plain": [
       "array([[[ 0.14678782, -0.9460397 , -1.2041714 , -0.1513634 ,  0.28513941,\n",
       "         -0.47494546, -1.79833339,  2.9269409 ],\n",
       "        [-0.13164233, -0.66136219, -0.97029053,  0.53860253, -1.8829656 ,\n",
       "          2.47401193, -0.36802385, -0.39040525],\n",
       "        [-2.54057726,  0.54829754, -0.32072238, -0.71196374, -0.313327  ,\n",
       "         -1.7544326 ,  0.33193185,  0.75610857],\n",
       "        [-0.18969196,  0.98213862,  0.05066111, -0.96430621,  1.51850446,\n",
       "          1.38648442, -0.94854702,  0.62405132],\n",
       "        [-0.98470408,  0.14037008, -0.16054359,  0.92932763, -1.36672556,\n",
       "          0.61382861, -0.09103976,  1.19416014],\n",
       "        [-0.11254063, -0.98045208, -1.43099371, -0.39172266,  0.16338319,\n",
       "          1.16809349,  0.8677304 ,  0.04259929],\n",
       "        [-2.81111724,  0.4999473 , -1.08116719,  1.09862161, -1.15929163,\n",
       "          1.01611669, -0.2044575 ,  0.26523627],\n",
       "        [-0.4517384 ,  0.11223707, -1.6342156 , -0.58377012, -0.50358152,\n",
       "          0.24490418, -0.69614575,  0.87229331],\n",
       "        [ 0.62600215, -0.0713419 , -0.72116668, -0.30918875, -3.26421627,\n",
       "         -1.02306267, -1.40845353,  2.60321731],\n",
       "        [ 0.07540334,  0.77576832,  0.0564315 ,  1.2999626 ,  0.48361054,\n",
       "          0.36790421, -0.74355869,  0.91210564]],\n",
       "\n",
       "       [[-0.01710524, -3.41529216,  1.49577507, -0.57981764, -0.17388961,\n",
       "         -0.4604522 ,  0.58676958, -0.21111573],\n",
       "        [ 0.27209457, -0.08810105, -0.24457031,  1.08729444,  1.4685054 ,\n",
       "         -1.59260261, -1.38701005, -0.74358977],\n",
       "        [ 1.30079847, -0.58724402, -0.38321864,  1.58328977, -1.78497339,\n",
       "         -3.03295303, -1.43342995,  0.1882118 ],\n",
       "        [-0.03051567, -1.34012437, -0.84375289,  0.8809032 ,  1.14667061,\n",
       "         -0.34559511,  1.32484881, -2.97916123],\n",
       "        [ 1.61941071,  1.65831947,  0.67715332,  0.97645748, -0.59188082,\n",
       "         -0.65473627, -1.43848313,  1.1673836 ],\n",
       "        [-0.78372099,  2.42821619,  1.7272371 , -0.33364341,  0.73321919,\n",
       "         -0.98957134,  0.61684298, -0.94818505],\n",
       "        [ 1.60069813, -0.20096568, -0.080177  ,  1.44369773,  0.52054693,\n",
       "          0.00463759,  1.00586451, -0.40695114],\n",
       "        [-0.38682222,  2.07908385,  1.59483455,  1.4226937 ,  0.36967417,\n",
       "         -1.06235619,  1.33882936, -0.24653749],\n",
       "        [-0.35389121,  0.15384608,  0.74654313,  0.47950542,  0.69544648,\n",
       "         -0.69165187,  0.27945473, -0.0845726 ],\n",
       "        [ 0.58487277, -1.25882863,  2.10446293, -0.16388957, -0.2463683 ,\n",
       "         -1.08232979,  1.50192547, -0.13392814]]])"
      ]
     },
     "execution_count": 63,
     "metadata": {},
     "output_type": "execute_result"
    }
   ],
   "source": [
    "X"
   ]
  },
  {
   "cell_type": "code",
   "execution_count": null,
   "metadata": {
    "collapsed": true
   },
   "outputs": [],
   "source": []
  }
 ],
 "metadata": {
  "anaconda-cloud": {},
  "kernelspec": {
   "display_name": "Python [conda root]",
   "language": "python",
   "name": "conda-root-py"
  },
  "language_info": {
   "codemirror_mode": {
    "name": "ipython",
    "version": 3
   },
   "file_extension": ".py",
   "mimetype": "text/x-python",
   "name": "python",
   "nbconvert_exporter": "python",
   "pygments_lexer": "ipython3",
   "version": "3.5.2"
  }
 },
 "nbformat": 4,
 "nbformat_minor": 1
}
